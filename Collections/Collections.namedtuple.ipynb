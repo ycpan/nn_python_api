{
 "cells": [
  {
   "cell_type": "code",
   "execution_count": 6,
   "metadata": {},
   "outputs": [
    {
     "name": "stdout",
     "output_type": "stream",
     "text": [
      "bingyang\n",
      "123456\n"
     ]
    }
   ],
   "source": [
    "#namedtuple\n",
    "#collections.namedtuple是一个工厂方法，它可以动态的创建一个继承tuple的子类。跟tuple相比，返回的子类可以使用名称来访问元素。\n",
    "from collections import namedtuple\n",
    "Account = namedtuple(\"Account\", [\"name\",\"pwd\"])\n",
    "account = Account(*(\"bingyang\", \"123456\"))\n",
    "print(account.name)\n",
    "\n",
    "print(account.pwd)"
   ]
  },
  {
   "cell_type": "code",
   "execution_count": 8,
   "metadata": {},
   "outputs": [
    {
     "name": "stdout",
     "output_type": "stream",
     "text": [
      "from builtins import property as _property, tuple as _tuple\n",
      "from operator import itemgetter as _itemgetter\n",
      "from collections import OrderedDict\n",
      "\n",
      "class Account(tuple):\n",
      "    'Account(name, pwd)'\n",
      "\n",
      "    __slots__ = ()\n",
      "\n",
      "    _fields = ('name', 'pwd')\n",
      "\n",
      "    def __new__(_cls, name, pwd):\n",
      "        'Create new instance of Account(name, pwd)'\n",
      "        return _tuple.__new__(_cls, (name, pwd))\n",
      "\n",
      "    @classmethod\n",
      "    def _make(cls, iterable, new=tuple.__new__, len=len):\n",
      "        'Make a new Account object from a sequence or iterable'\n",
      "        result = new(cls, iterable)\n",
      "        if len(result) != 2:\n",
      "            raise TypeError('Expected 2 arguments, got %d' % len(result))\n",
      "        return result\n",
      "\n",
      "    def _replace(_self, **kwds):\n",
      "        'Return a new Account object replacing specified fields with new values'\n",
      "        result = _self._make(map(kwds.pop, ('name', 'pwd'), _self))\n",
      "        if kwds:\n",
      "            raise ValueError('Got unexpected field names: %r' % list(kwds))\n",
      "        return result\n",
      "\n",
      "    def __repr__(self):\n",
      "        'Return a nicely formatted representation string'\n",
      "        return self.__class__.__name__ + '(name=%r, pwd=%r)' % self\n",
      "\n",
      "    def _asdict(self):\n",
      "        'Return a new OrderedDict which maps field names to their values.'\n",
      "        return OrderedDict(zip(self._fields, self))\n",
      "\n",
      "    def __getnewargs__(self):\n",
      "        'Return self as a plain tuple.  Used by copy and pickle.'\n",
      "        return tuple(self)\n",
      "\n",
      "    name = _property(_itemgetter(0), doc='Alias for field number 0')\n",
      "\n",
      "    pwd = _property(_itemgetter(1), doc='Alias for field number 1')\n",
      "\n",
      "\n"
     ]
    }
   ],
   "source": [
    "#nametuple一共支持4个参数：def namedtuple(typename, field_names, verbose=False, rename=False)\n",
    "#typename\n",
    "#field_names 类名称 \n",
    "#field_names 字段名称。它的值可以是一个能保证元素间顺序不变的可遍历对象或者是逗号链接起来的字符串，例如：\n",
    "Account = namedtuple(\"Account\", (\"name\", \"pwd\"))\n",
    "Account = namedtuple(\"Account\", \"name,pwd\")\n",
    "#设置为True的话会打印出类的定义代码。\n",
    "Account = namedtuple(\"Account\", \"name,pwd\", verbose=True)\n"
   ]
  },
  {
   "cell_type": "code",
   "execution_count": 11,
   "metadata": {},
   "outputs": [
    {
     "name": "stdout",
     "output_type": "stream",
     "text": [
      "bingyang\n",
      "123456\n"
     ]
    }
   ],
   "source": [
    "#rename\n",
    "#默认情况下，namedtuple会检查我们传递的属性名称是否符合规范，对于不符合规范的名称会抛出异常。\n",
    "#当我们设置rename为True，不会会抛出异常，将会对不符合规范的名称设置为_$d（$d的值为属性设置时候的index），例如：\n",
    "Account = namedtuple(\"Account\", ['1','2'],  rename=True)\n",
    "account = Account('bingyang', '123456')\n",
    "print(account._0)\n",
    "#'bingyang'\n",
    "print(account._1)\n",
    "#'123456'"
   ]
  }
 ],
 "metadata": {
  "kernelspec": {
   "display_name": "Python 3",
   "language": "python",
   "name": "python3"
  },
  "language_info": {
   "codemirror_mode": {
    "name": "ipython",
    "version": 3
   },
   "file_extension": ".py",
   "mimetype": "text/x-python",
   "name": "python",
   "nbconvert_exporter": "python",
   "pygments_lexer": "ipython3",
   "version": "3.6.9"
  }
 },
 "nbformat": 4,
 "nbformat_minor": 2
}
