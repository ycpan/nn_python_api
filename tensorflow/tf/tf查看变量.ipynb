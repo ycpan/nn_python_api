{
 "cells": [
  {
   "cell_type": "code",
   "execution_count": 2,
   "metadata": {},
   "outputs": [],
   "source": [
    "import tensorflow as tf"
   ]
  },
  {
   "cell_type": "code",
   "execution_count": 30,
   "metadata": {},
   "outputs": [
    {
     "name": "stdout",
     "output_type": "stream",
     "text": [
      "[]\n"
     ]
    }
   ],
   "source": [
    "#在使用tensorflow搭建模型时，需要定义许多变量，例如一个映射层就需要权重与偏置。\n",
    "#当网络结果越来越复杂，变量越来越多的时候，就需要一个查看管理变量的函数，\n",
    "\n",
    "#在tensorflow中，tf.trainable_variables(), tf.all_variables(),和tf.global_variables()可以来满足查看变量的要求\n",
    "#在我们生成变量时，无论是使用tf.Variable()还是tf.get_variable()生成变量，都会涉及一个参数trainable,其默认为True。\n",
    "#tf.trainable_variables()是用来查看需要训练的变量\n",
    "#例如\n",
    "#？？？？？？？？这里没有打印出来变量，原因未知，需要在研究\n",
    "w1 = tf.Variable(tf.compat.v2.random.normal([256,2000]),'w1')\n",
    "learning_rate = tf.Variable(0.5,trainable=False)\n",
    "# print(w1)\n",
    "# print(learning_rate)\n",
    "trainable_params = tf.compat.v1.trainable_variables()\n",
    "print(trainable_params)\n",
    "\n"
   ]
  },
  {
   "cell_type": "code",
   "execution_count": 31,
   "metadata": {},
   "outputs": [
    {
     "name": "stdout",
     "output_type": "stream",
     "text": [
      "[]\n"
     ]
    }
   ],
   "source": [
    "#如果变量定义在scope域中，是否会有不同。实际上，tf.trainable_variables()是可以通过参数选定域名的，\n",
    "with tf.compat.v1.variable_scope('var'):\n",
    "    w2 = tf.compat.v1.get_variable('w1',[3,3])\n",
    "w3 = tf.compat.v1.get_variable('w2',[3,3])\n",
    "trainable_params = tf.compat.v1.trainable_variables(scope='var')\n",
    "print(trainable_params)"
   ]
  },
  {
   "cell_type": "code",
   "execution_count": 32,
   "metadata": {},
   "outputs": [],
   "source": [
    "#tf.global_variables()\n",
    "#如果我希望查看全部变量，包括我的学习率等信息，可以通过tf.global_variables()来实现。"
   ]
  },
  {
   "cell_type": "code",
   "execution_count": null,
   "metadata": {},
   "outputs": [],
   "source": [
    "# tf.all_variables()\n",
    "# 与tf.global_variables()作用拥有相似的功能，只是版本问题"
   ]
  }
 ],
 "metadata": {
  "kernelspec": {
   "display_name": "Python 3",
   "language": "python",
   "name": "python3"
  },
  "language_info": {
   "codemirror_mode": {
    "name": "ipython",
    "version": 3
   },
   "file_extension": ".py",
   "mimetype": "text/x-python",
   "name": "python",
   "nbconvert_exporter": "python",
   "pygments_lexer": "ipython3",
   "version": "3.6.9"
  }
 },
 "nbformat": 4,
 "nbformat_minor": 2
}
