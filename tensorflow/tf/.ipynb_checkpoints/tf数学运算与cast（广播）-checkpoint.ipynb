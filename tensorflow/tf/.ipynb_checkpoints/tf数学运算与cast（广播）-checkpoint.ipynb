{
 "cells": [
  {
   "cell_type": "code",
   "execution_count": 1,
   "metadata": {},
   "outputs": [],
   "source": [
    "import tensorflow as tf"
   ]
  },
  {
   "cell_type": "code",
   "execution_count": 14,
   "metadata": {},
   "outputs": [
    {
     "name": "stdout",
     "output_type": "stream",
     "text": [
      "tf.Tensor(\n",
      "[[  0.]\n",
      " [128.]\n",
      " [256.]\n",
      " [384.]\n",
      " [512.]\n",
      " [640.]\n",
      " [768.]\n",
      " [896.]], shape=(8, 1), dtype=float32)\n"
     ]
    }
   ],
   "source": [
    "seq_length = 128\n",
    "batch_size = 8\n",
    "width = 768\n",
    "flat_offsets = tf.reshape(tf.range(0,batch_size,dtype=tf.float32) * seq_length,[-1,1])\n",
    "print(flat_offsets)"
   ]
  },
  {
   "cell_type": "code",
   "execution_count": 10,
   "metadata": {},
   "outputs": [
    {
     "name": "stdout",
     "output_type": "stream",
     "text": [
      "<tf.Variable 'Variable:0' shape=(8, 20) dtype=float32, numpy=\n",
      "array([[1., 1., 1., 1., 1., 1., 1., 1., 1., 1., 1., 1., 1., 1., 1., 1.,\n",
      "        1., 1., 1., 1.],\n",
      "       [1., 1., 1., 1., 1., 1., 1., 1., 1., 1., 1., 1., 1., 1., 1., 1.,\n",
      "        1., 1., 1., 1.],\n",
      "       [1., 1., 1., 1., 1., 1., 1., 1., 1., 1., 1., 1., 1., 1., 1., 1.,\n",
      "        1., 1., 1., 1.],\n",
      "       [1., 1., 1., 1., 1., 1., 1., 1., 1., 1., 1., 1., 1., 1., 1., 1.,\n",
      "        1., 1., 1., 1.],\n",
      "       [1., 1., 1., 1., 1., 1., 1., 1., 1., 1., 1., 1., 1., 1., 1., 1.,\n",
      "        1., 1., 1., 1.],\n",
      "       [1., 1., 1., 1., 1., 1., 1., 1., 1., 1., 1., 1., 1., 1., 1., 1.,\n",
      "        1., 1., 1., 1.],\n",
      "       [1., 1., 1., 1., 1., 1., 1., 1., 1., 1., 1., 1., 1., 1., 1., 1.,\n",
      "        1., 1., 1., 1.],\n",
      "       [1., 1., 1., 1., 1., 1., 1., 1., 1., 1., 1., 1., 1., 1., 1., 1.,\n",
      "        1., 1., 1., 1.]], dtype=float32)>\n"
     ]
    }
   ],
   "source": [
    "positions = tf.Variable(tf.ones([8,20]))\n",
    "print(positions)"
   ]
  },
  {
   "cell_type": "code",
   "execution_count": 15,
   "metadata": {},
   "outputs": [
    {
     "name": "stdout",
     "output_type": "stream",
     "text": [
      "(8, 20)\n",
      "(8, 1)\n",
      "tf.Tensor(\n",
      "[[  1.   1.   1.   1.   1.   1.   1.   1.   1.   1.   1.   1.   1.   1.\n",
      "    1.   1.   1.   1.   1.   1.]\n",
      " [129. 129. 129. 129. 129. 129. 129. 129. 129. 129. 129. 129. 129. 129.\n",
      "  129. 129. 129. 129. 129. 129.]\n",
      " [257. 257. 257. 257. 257. 257. 257. 257. 257. 257. 257. 257. 257. 257.\n",
      "  257. 257. 257. 257. 257. 257.]\n",
      " [385. 385. 385. 385. 385. 385. 385. 385. 385. 385. 385. 385. 385. 385.\n",
      "  385. 385. 385. 385. 385. 385.]\n",
      " [513. 513. 513. 513. 513. 513. 513. 513. 513. 513. 513. 513. 513. 513.\n",
      "  513. 513. 513. 513. 513. 513.]\n",
      " [641. 641. 641. 641. 641. 641. 641. 641. 641. 641. 641. 641. 641. 641.\n",
      "  641. 641. 641. 641. 641. 641.]\n",
      " [769. 769. 769. 769. 769. 769. 769. 769. 769. 769. 769. 769. 769. 769.\n",
      "  769. 769. 769. 769. 769. 769.]\n",
      " [897. 897. 897. 897. 897. 897. 897. 897. 897. 897. 897. 897. 897. 897.\n",
      "  897. 897. 897. 897. 897. 897.]], shape=(8, 20), dtype=float32)\n"
     ]
    }
   ],
   "source": [
    "# cast如何操作\n",
    "# 可以看出来是按照行或者列自动广播\n",
    "print(positions.shape)\n",
    "print(flat_offsets.shape)\n",
    "res = positions + flat_offsets\n",
    "print(res)"
   ]
  }
 ],
 "metadata": {
  "kernelspec": {
   "display_name": "Python 3",
   "language": "python",
   "name": "python3"
  },
  "language_info": {
   "codemirror_mode": {
    "name": "ipython",
    "version": 3
   },
   "file_extension": ".py",
   "mimetype": "text/x-python",
   "name": "python",
   "nbconvert_exporter": "python",
   "pygments_lexer": "ipython3",
   "version": "3.6.9"
  }
 },
 "nbformat": 4,
 "nbformat_minor": 2
}
