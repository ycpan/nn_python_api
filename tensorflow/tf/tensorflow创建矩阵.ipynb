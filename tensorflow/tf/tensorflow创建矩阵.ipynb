{
 "cells": [
  {
   "cell_type": "code",
   "execution_count": 3,
   "metadata": {},
   "outputs": [],
   "source": [
    "import tensorflow as tf\n"
   ]
  },
  {
   "cell_type": "code",
   "execution_count": 5,
   "metadata": {},
   "outputs": [
    {
     "name": "stdout",
     "output_type": "stream",
     "text": [
      "<tf.Variable 'v1:0' shape=(3, 3, 3) dtype=float32, numpy=\n",
      "array([[[0., 0., 0.],\n",
      "        [0., 0., 0.],\n",
      "        [0., 0., 0.]],\n",
      "\n",
      "       [[0., 0., 0.],\n",
      "        [0., 0., 0.],\n",
      "        [0., 0., 0.]],\n",
      "\n",
      "       [[0., 0., 0.],\n",
      "        [0., 0., 0.],\n",
      "        [0., 0., 0.]]], dtype=float32)>\n",
      "<tf.Variable 'v2:0' shape=(10, 5) dtype=float32, numpy=\n",
      "array([[1., 1., 1., 1., 1.],\n",
      "       [1., 1., 1., 1., 1.],\n",
      "       [1., 1., 1., 1., 1.],\n",
      "       [1., 1., 1., 1., 1.],\n",
      "       [1., 1., 1., 1., 1.],\n",
      "       [1., 1., 1., 1., 1.],\n",
      "       [1., 1., 1., 1., 1.],\n",
      "       [1., 1., 1., 1., 1.],\n",
      "       [1., 1., 1., 1., 1.],\n",
      "       [1., 1., 1., 1., 1.]], dtype=float32)>\n"
     ]
    }
   ],
   "source": [
    "##全0和全1矩阵\n",
    "v1 = tf.Variable(tf.zeros([3,3,3]), name=\"v1\")  \n",
    "print(v1)\n",
    "v2 = tf.Variable(tf.ones([10,5]), name=\"v2\")  \n",
    "print(v2)"
   ]
  },
  {
   "cell_type": "code",
   "execution_count": 7,
   "metadata": {},
   "outputs": [
    {
     "name": "stdout",
     "output_type": "stream",
     "text": [
      "<tf.Variable 'Variable:0' shape=(2, 3) dtype=int32, numpy=\n",
      "array([[9, 9, 9],\n",
      "       [9, 9, 9]], dtype=int32)>\n"
     ]
    }
   ],
   "source": [
    "#填充单值矩阵  \n",
    "v3 = tf.Variable(tf.fill([2,3], 9))  \n",
    "print(v3)"
   ]
  },
  {
   "cell_type": "code",
   "execution_count": 9,
   "metadata": {},
   "outputs": [
    {
     "name": "stdout",
     "output_type": "stream",
     "text": [
      "tf.Tensor([1 2 3 4 5 6 7], shape=(7,), dtype=int32)\n",
      "tf.Tensor(\n",
      "[[-1. -1. -1.]\n",
      " [-1. -1. -1.]], shape=(2, 3), dtype=float32)\n"
     ]
    }
   ],
   "source": [
    "#常量矩阵  \n",
    "v4_1 = tf.constant([1, 2, 3, 4, 5, 6, 7])  \n",
    "v4_2 = tf.constant(-1.0, shape=[2, 3])  \n",
    "print(v4_1)\n",
    "print(v4_2)"
   ]
  },
  {
   "cell_type": "code",
   "execution_count": 11,
   "metadata": {},
   "outputs": [
    {
     "name": "stdout",
     "output_type": "stream",
     "text": [
      "tf.Tensor([1 1 1 1 1 1 1], shape=(7,), dtype=int32)\n",
      "tf.Tensor([0 0 0 0 0 0 0], shape=(7,), dtype=int32)\n"
     ]
    }
   ],
   "source": [
    "# 和v4_1形状一样的全1或全0矩阵\n",
    "\n",
    "v5_1=tf.ones_like(v4_1)\n",
    "\n",
    "v5_2=tf.zeros_like(v4_1) \n",
    "print(v5_1)\n",
    "print(v5_2)"
   ]
  },
  {
   "cell_type": "code",
   "execution_count": 13,
   "metadata": {},
   "outputs": [
    {
     "name": "stdout",
     "output_type": "stream",
     "text": [
      "tf.Tensor(\n",
      "[10.        10.068966  10.137931  10.206897  10.275862  10.344828\n",
      " 10.413794  10.4827585 10.551724  10.620689  10.689655  10.75862\n",
      " 10.827586  10.896552  10.965517  11.034483  11.103448  11.172414\n",
      " 11.241379  11.310345  11.379311  11.448276  11.5172415 11.586206\n",
      " 11.655172  11.724138  11.793103  11.862069  11.931034  12.       ], shape=(30,), dtype=float32)\n",
      "tf.Tensor([10 13 16 19], shape=(4,), dtype=int32)\n"
     ]
    }
   ],
   "source": [
    "#生成等差数列  \n",
    "v6_1 = tf.linspace(10.0, 12.0, 30, name=\"linspace\")#float32 or float64  \n",
    "v7_1 = tf.range(10, 20, 3)#just int32  \n",
    "print(v6_1)\n",
    "print(v7_1)"
   ]
  },
  {
   "cell_type": "code",
   "execution_count": 14,
   "metadata": {},
   "outputs": [],
   "source": [
    "#生成各种随机数据矩阵  \n",
    "#目前无法运行，2。0 api不正确\n"
   ]
  },
  {
   "cell_type": "code",
   "execution_count": 16,
   "metadata": {},
   "outputs": [
    {
     "ename": "AttributeError",
     "evalue": "module 'tensorflow' has no attribute 'random_uniform'",
     "output_type": "error",
     "traceback": [
      "\u001b[0;31m---------------------------------------------------------------------------\u001b[0m",
      "\u001b[0;31mAttributeError\u001b[0m                            Traceback (most recent call last)",
      "\u001b[0;32m<ipython-input-16-3b5897e1d455>\u001b[0m in \u001b[0;36m<module>\u001b[0;34m\u001b[0m\n\u001b[1;32m      1\u001b[0m \u001b[0;31m#平均分布\u001b[0m\u001b[0;34m\u001b[0m\u001b[0;34m\u001b[0m\u001b[0;34m\u001b[0m\u001b[0m\n\u001b[0;32m----> 2\u001b[0;31m \u001b[0mv8_1\u001b[0m \u001b[0;34m=\u001b[0m \u001b[0mtf\u001b[0m\u001b[0;34m.\u001b[0m\u001b[0mVariable\u001b[0m\u001b[0;34m(\u001b[0m\u001b[0mtf\u001b[0m\u001b[0;34m.\u001b[0m\u001b[0mrandom_uniform\u001b[0m\u001b[0;34m(\u001b[0m\u001b[0;34m[\u001b[0m\u001b[0;36m2\u001b[0m\u001b[0;34m,\u001b[0m\u001b[0;36m4\u001b[0m\u001b[0;34m]\u001b[0m\u001b[0;34m,\u001b[0m \u001b[0mminval\u001b[0m\u001b[0;34m=\u001b[0m\u001b[0;36m0.0\u001b[0m\u001b[0;34m,\u001b[0m \u001b[0mmaxval\u001b[0m\u001b[0;34m=\u001b[0m\u001b[0;36m2.0\u001b[0m\u001b[0;34m,\u001b[0m \u001b[0mdtype\u001b[0m\u001b[0;34m=\u001b[0m\u001b[0mtf\u001b[0m\u001b[0;34m.\u001b[0m\u001b[0mfloat32\u001b[0m\u001b[0;34m,\u001b[0m \u001b[0mseed\u001b[0m\u001b[0;34m=\u001b[0m\u001b[0;36m1234\u001b[0m\u001b[0;34m,\u001b[0m \u001b[0mname\u001b[0m\u001b[0;34m=\u001b[0m\u001b[0;34m\"v8_1\"\u001b[0m\u001b[0;34m)\u001b[0m\u001b[0;34m)\u001b[0m\u001b[0;34m\u001b[0m\u001b[0;34m\u001b[0m\u001b[0m\n\u001b[0m\u001b[1;32m      3\u001b[0m \u001b[0mprint\u001b[0m\u001b[0;34m(\u001b[0m\u001b[0mv8_1\u001b[0m\u001b[0;34m)\u001b[0m\u001b[0;34m\u001b[0m\u001b[0;34m\u001b[0m\u001b[0m\n",
      "\u001b[0;31mAttributeError\u001b[0m: module 'tensorflow' has no attribute 'random_uniform'"
     ]
    }
   ],
   "source": [
    "#平均分布\n",
    "v8_1 = tf.Variable(tf.random_uniform([2,4], minval=0.0, maxval=2.0, dtype=tf.float32, seed=1234, name=\"v8_1\")) \n",
    "print(v8_1)"
   ]
  },
  {
   "cell_type": "code",
   "execution_count": null,
   "metadata": {},
   "outputs": [],
   "source": [
    "#正态分布\n",
    "\n",
    "v8_2 = tf.Variable(tf.random_normal([2,3], mean=0.0, stddev=1.0, dtype=tf.float32, seed=1234, name=\"v8_2\"))  \n",
    "\n",
    "#正态分布,但是去掉2sigma外的数字\n",
    "\n",
    "v8_3 = tf.Variable(tf.truncated_normal([2,3], mean=0.0, stddev=1.0, dtype=tf.float32, seed=1234, name=\"v8_3\"))  \n",
    "\n",
    "#把这3个行重排列\n",
    "v8_5 = tf.random_shuffle([[1,2,3],[4,5,6],[6,6,6]], seed=134, name=\"v8_5\")  \n",
    "\n",
    "\n",
    "————————————————\n",
    "版权声明：本文为CSDN博主「windows2」的原创文章，遵循 CC 4.0 BY-SA 版权协议，转载请附上原文出处链接及本声明。\n",
    "原文链接：https://blog.csdn.net/windows2/article/details/78664779"
   ]
  }
 ],
 "metadata": {
  "kernelspec": {
   "display_name": "Python 3",
   "language": "python",
   "name": "python3"
  },
  "language_info": {
   "codemirror_mode": {
    "name": "ipython",
    "version": 3
   },
   "file_extension": ".py",
   "mimetype": "text/x-python",
   "name": "python",
   "nbconvert_exporter": "python",
   "pygments_lexer": "ipython3",
   "version": "3.6.9"
  }
 },
 "nbformat": 4,
 "nbformat_minor": 2
}
