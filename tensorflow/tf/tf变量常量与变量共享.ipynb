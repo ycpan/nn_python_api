{
 "cells": [
  {
   "cell_type": "code",
   "execution_count": 2,
   "metadata": {},
   "outputs": [],
   "source": [
    "import tensorflow as tf\n"
   ]
  },
  {
   "cell_type": "code",
   "execution_count": 4,
   "metadata": {},
   "outputs": [],
   "source": [
    "#在深度学习训练时，tf.variable可以用于训练参数，tf.constant生成一个常量\n"
   ]
  },
  {
   "cell_type": "code",
   "execution_count": 5,
   "metadata": {},
   "outputs": [],
   "source": [
    "#在训练参数的时候，tf有时后因为算法需要，需要用到变量共享，即在不同的位置用到同一个\n",
    "#变量。比如，在生成对抗网络中，判别器的任务是，如果接收到的是生成器生成的图像，判别\n",
    "#器就尝试优化自己的网络结构来使自己输出0，如果接收到的是来自真实数据的图像，那么就尝\n",
    "#试优化自己的网络结构来使自己输出1。也就是说，生成图像和真实图像经过判别器的时候，\n",
    "#要共享同一套变量，所以TensorFlow引入了变量共享机制.TF中有两种作用域类型：\n",
    "#（https://www.cnblogs.com/Charles-Wan/p/6200446.html）\n",
    "#命名域 (name scope)：tf.name_scope()\n",
    "#变量域 (variable scope)：tf.variable_scope()\n",
    "#在作用域下面有变量（在变量域下面）和操作（在命名域下面）\n",
    "#变量：tf.variable() 和tf.get_variable()\n",
    "#操作，加减等，不再举例子。\n",
    "#tf.name_scope()、tf.variable_scope()会在模型中开辟各自的空间，tf.name_scope()\n",
    "#用于变量的操作的命名空间，tf.variable_scope()用于为变量开辟命名空间。\n",
    "#tf.Variable()每次都会新建变量，如果存在相同名字的变量，则内部自动区分（应该会加数字）\n",
    "#tf.get_variable()必须在tf.variable_scope()的作用域下使用。\n"
   ]
  },
  {
   "cell_type": "code",
   "execution_count": 8,
   "metadata": {},
   "outputs": [
    {
     "data": {
      "text/plain": [
       "tensorflow.python.framework.ops.name_scope_v2"
      ]
     },
     "execution_count": 8,
     "metadata": {},
     "output_type": "execute_result"
    }
   ],
   "source": [
    "tf.name_scope"
   ]
  },
  {
   "cell_type": "code",
   "execution_count": 12,
   "metadata": {},
   "outputs": [
    {
     "ename": "AttributeError",
     "evalue": "module 'tensorflow' has no attribute 'variable_op_scope'",
     "output_type": "error",
     "traceback": [
      "\u001b[0;31m---------------------------------------------------------------------------\u001b[0m",
      "\u001b[0;31mAttributeError\u001b[0m                            Traceback (most recent call last)",
      "\u001b[0;32m<ipython-input-12-00606cc0d9a8>\u001b[0m in \u001b[0;36m<module>\u001b[0;34m\u001b[0m\n\u001b[0;32m----> 1\u001b[0;31m \u001b[0mtf\u001b[0m\u001b[0;34m.\u001b[0m\u001b[0mvariable_op_scope\u001b[0m\u001b[0;34m\u001b[0m\u001b[0;34m\u001b[0m\u001b[0m\n\u001b[0m",
      "\u001b[0;31mAttributeError\u001b[0m: module 'tensorflow' has no attribute 'variable_op_scope'"
     ]
    }
   ],
   "source": [
    "tf.variable_op_scope"
   ]
  }
 ],
 "metadata": {
  "kernelspec": {
   "display_name": "Python 3",
   "language": "python",
   "name": "python3"
  },
  "language_info": {
   "codemirror_mode": {
    "name": "ipython",
    "version": 3
   },
   "file_extension": ".py",
   "mimetype": "text/x-python",
   "name": "python",
   "nbconvert_exporter": "python",
   "pygments_lexer": "ipython3",
   "version": "3.6.9"
  }
 },
 "nbformat": 4,
 "nbformat_minor": 2
}
